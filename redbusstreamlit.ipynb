{
 "cells": [
  {
   "cell_type": "code",
   "execution_count": 11,
   "metadata": {},
   "outputs": [],
   "source": [
    "import pandas as pd\n",
    "import streamlit as st\n",
    "\n",
    "westbengal_data = pd.read_csv(\"WestBengal_Data.csv\")\n",
    "telungana_data = pd.read_csv(\"telungana_Data.csv\")\n",
    "kerela_data = pd.read_csv(\"kerala_Data.csv\")\n",
    "punjab_data = pd.read_csv(\"punjab_Data.csv\")\n",
    "kaac_data = pd.read_csv(\"kaac_Data.csv\")\n",
    "jkrstc_data = pd.read_csv(\"jkrstc_Data.csv\")\n",
    "andra_data = pd.read_csv(\"andra_Data.csv\")\n",
    "southbengal_data = pd.read_csv(\"southbengal_Data.csv\") \n",
    "bihar_data = pd.read_csv(\"bihar_Data.csv\")\n",
    "rajasthan_data = pd.read_csv(\"rajasthan_Data.csv\") \n",
    "# Make sure this line is included\n",
    "\n",
    "# Combine the data into a single DataFrame\n",
    "all_data = pd.concat([westbengal_data, telungana_data, kerela_data, punjab_data, kaac_data, jkrstc_data, andra_data, southbengal_data, bihar_data, rajasthan_data])\n",
    "\n",
    "# Sidebar filters\n",
    "st.sidebar.title('Filter Options')\n",
    "route = st.sidebar.selectbox('Select Route', all_data['route_name'].unique())\n",
    "bus_type = st.sidebar.selectbox('Select Bus Type', all_data['bustype'].unique())\n",
    "star_rating = st.sidebar.slider('Select Star Rating', 0, 5, (0, 5))\n",
    "# Filter data based on selections\n",
    "filtered_data = all_data[\n",
    "    (all_data['route_name'] == route) &\n",
    "    (all_data['bustype'] == bus_type) &\n",
    "    (all_data['star_rating'] >= star_rating[0]) &\n",
    "    (all_data['star_rating'] <= star_rating[1])\n",
    "]\n",
    "\n",
    "# Display the filtered data\n",
    "st.title('Bus Timings Data')\n",
    "st.subheader('Filtered Bus Data')\n",
    "st.dataframe(filtered_data)\n",
    "\n",
    "# Display bus timings details\n",
    "if not filtered_data.empty:\n",
    "    st.subheader('Bus Timings')\n",
    "    bus_name = filtered_data.iloc[0]['busname']\n",
    "    departure_time = filtered_data.iloc[0]['departing_time']\n",
    "    arrival_time = filtered_data.iloc[0]['reaching_time']\n",
    "    \n",
    "    st.markdown(f\"*Bus Name:* {bus_name}\")\n",
    "    st.markdown(f\"*Departure Time:* {departure_time}\")\n",
    "    st.markdown(f\"*Arrival Time:* {arrival_time}\")\n",
    "else:\n",
    "    st.write(\"No data available for the selected filters.\")"
   ]
  }
 ],
 "metadata": {
  "kernelspec": {
   "display_name": "Python 3",
   "language": "python",
   "name": "python3"
  },
  "language_info": {
   "codemirror_mode": {
    "name": "ipython",
    "version": 3
   },
   "file_extension": ".py",
   "mimetype": "text/x-python",
   "name": "python",
   "nbconvert_exporter": "python",
   "pygments_lexer": "ipython3",
   "version": "3.12.3"
  }
 },
 "nbformat": 4,
 "nbformat_minor": 2
}
